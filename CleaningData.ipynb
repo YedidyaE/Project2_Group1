{
 "cells": [
  {
   "cell_type": "code",
   "execution_count": 1,
   "metadata": {},
   "outputs": [],
   "source": [
    "#Importing dependencies \n",
    "\n",
    "import os\n",
    "import sqlite3\n",
    "import re\n",
    "import pandas as pd\n",
    "import datetime\n",
    "import numpy as np\n",
    "import matplotlib.pyplot as plt\n",
    "import scipy as sp"
   ]
  },
  {
   "cell_type": "code",
   "execution_count": 2,
   "metadata": {},
   "outputs": [],
   "source": [
    "### Code to initiate the db and import xls file\n",
    "\n",
    "# filename=\"/Users/daryarudych/Desktop/repos/Project2_Group1/db/marijuana\" \n",
    "# con=sqlite3.connect(filename+\".db\")\n",
    "# wb=pd.read_excel(filename+'.xlsx',sheetname=None)\n",
    "# for sheet in wb:\n",
    "#     wb[sheet].to_sql(sheet,con, index=False)\n",
    "# con.commit()\n",
    "# con.close()\n"
   ]
  },
  {
   "cell_type": "code",
   "execution_count": 3,
   "metadata": {},
   "outputs": [],
   "source": [
    "#Initiate connection to db\n",
    "conn = sqlite3.connect(\"/Users/daryarudych/Desktop/repos/Project2_Group1/db/marijuana.db\")"
   ]
  },
  {
   "cell_type": "code",
   "execution_count": 4,
   "metadata": {},
   "outputs": [],
   "source": [
    "# Get cursor object\n",
    "cur = conn.cursor()"
   ]
  },
  {
   "cell_type": "code",
   "execution_count": 5,
   "metadata": {},
   "outputs": [],
   "source": [
    "#Read data from a selected table into a df\n",
    "table1 = pd.read_sql_query(\"SELECT * from state_unemployment\", conn)"
   ]
  },
  {
   "cell_type": "code",
   "execution_count": 6,
   "metadata": {},
   "outputs": [
    {
     "ename": "KeyError",
     "evalue": "\"['Series ID'] not found in axis\"",
     "output_type": "error",
     "traceback": [
      "\u001b[0;31m---------------------------------------------------------------------------\u001b[0m",
      "\u001b[0;31mKeyError\u001b[0m                                  Traceback (most recent call last)",
      "\u001b[0;32m<ipython-input-6-7a6f1d382428>\u001b[0m in \u001b[0;36m<module>\u001b[0;34m()\u001b[0m\n\u001b[1;32m      1\u001b[0m \u001b[0;31m#Drop column and see shape\u001b[0m\u001b[0;34m\u001b[0m\u001b[0;34m\u001b[0m\u001b[0m\n\u001b[0;32m----> 2\u001b[0;31m \u001b[0mtable1\u001b[0m \u001b[0;34m=\u001b[0m \u001b[0mtable1\u001b[0m\u001b[0;34m.\u001b[0m\u001b[0mdrop\u001b[0m\u001b[0;34m(\u001b[0m\u001b[0mcolumns\u001b[0m\u001b[0;34m=\u001b[0m\u001b[0;34m[\u001b[0m\u001b[0;34m\"Series ID\"\u001b[0m\u001b[0;34m]\u001b[0m\u001b[0;34m)\u001b[0m\u001b[0;34m\u001b[0m\u001b[0m\n\u001b[0m\u001b[1;32m      3\u001b[0m \u001b[0mtable1\u001b[0m\u001b[0;34m.\u001b[0m\u001b[0mshape\u001b[0m\u001b[0;34m\u001b[0m\u001b[0m\n",
      "\u001b[0;32m/anaconda3/envs/PythonData/lib/python3.6/site-packages/pandas/core/frame.py\u001b[0m in \u001b[0;36mdrop\u001b[0;34m(self, labels, axis, index, columns, level, inplace, errors)\u001b[0m\n\u001b[1;32m   3695\u001b[0m                                            \u001b[0mindex\u001b[0m\u001b[0;34m=\u001b[0m\u001b[0mindex\u001b[0m\u001b[0;34m,\u001b[0m \u001b[0mcolumns\u001b[0m\u001b[0;34m=\u001b[0m\u001b[0mcolumns\u001b[0m\u001b[0;34m,\u001b[0m\u001b[0;34m\u001b[0m\u001b[0m\n\u001b[1;32m   3696\u001b[0m                                            \u001b[0mlevel\u001b[0m\u001b[0;34m=\u001b[0m\u001b[0mlevel\u001b[0m\u001b[0;34m,\u001b[0m \u001b[0minplace\u001b[0m\u001b[0;34m=\u001b[0m\u001b[0minplace\u001b[0m\u001b[0;34m,\u001b[0m\u001b[0;34m\u001b[0m\u001b[0m\n\u001b[0;32m-> 3697\u001b[0;31m                                            errors=errors)\n\u001b[0m\u001b[1;32m   3698\u001b[0m \u001b[0;34m\u001b[0m\u001b[0m\n\u001b[1;32m   3699\u001b[0m     @rewrite_axis_style_signature('mapper', [('copy', True),\n",
      "\u001b[0;32m/anaconda3/envs/PythonData/lib/python3.6/site-packages/pandas/core/generic.py\u001b[0m in \u001b[0;36mdrop\u001b[0;34m(self, labels, axis, index, columns, level, inplace, errors)\u001b[0m\n\u001b[1;32m   3109\u001b[0m         \u001b[0;32mfor\u001b[0m \u001b[0maxis\u001b[0m\u001b[0;34m,\u001b[0m \u001b[0mlabels\u001b[0m \u001b[0;32min\u001b[0m \u001b[0maxes\u001b[0m\u001b[0;34m.\u001b[0m\u001b[0mitems\u001b[0m\u001b[0;34m(\u001b[0m\u001b[0;34m)\u001b[0m\u001b[0;34m:\u001b[0m\u001b[0;34m\u001b[0m\u001b[0m\n\u001b[1;32m   3110\u001b[0m             \u001b[0;32mif\u001b[0m \u001b[0mlabels\u001b[0m \u001b[0;32mis\u001b[0m \u001b[0;32mnot\u001b[0m \u001b[0;32mNone\u001b[0m\u001b[0;34m:\u001b[0m\u001b[0;34m\u001b[0m\u001b[0m\n\u001b[0;32m-> 3111\u001b[0;31m                 \u001b[0mobj\u001b[0m \u001b[0;34m=\u001b[0m \u001b[0mobj\u001b[0m\u001b[0;34m.\u001b[0m\u001b[0m_drop_axis\u001b[0m\u001b[0;34m(\u001b[0m\u001b[0mlabels\u001b[0m\u001b[0;34m,\u001b[0m \u001b[0maxis\u001b[0m\u001b[0;34m,\u001b[0m \u001b[0mlevel\u001b[0m\u001b[0;34m=\u001b[0m\u001b[0mlevel\u001b[0m\u001b[0;34m,\u001b[0m \u001b[0merrors\u001b[0m\u001b[0;34m=\u001b[0m\u001b[0merrors\u001b[0m\u001b[0;34m)\u001b[0m\u001b[0;34m\u001b[0m\u001b[0m\n\u001b[0m\u001b[1;32m   3112\u001b[0m \u001b[0;34m\u001b[0m\u001b[0m\n\u001b[1;32m   3113\u001b[0m         \u001b[0;32mif\u001b[0m \u001b[0minplace\u001b[0m\u001b[0;34m:\u001b[0m\u001b[0;34m\u001b[0m\u001b[0m\n",
      "\u001b[0;32m/anaconda3/envs/PythonData/lib/python3.6/site-packages/pandas/core/generic.py\u001b[0m in \u001b[0;36m_drop_axis\u001b[0;34m(self, labels, axis, level, errors)\u001b[0m\n\u001b[1;32m   3141\u001b[0m                 \u001b[0mnew_axis\u001b[0m \u001b[0;34m=\u001b[0m \u001b[0maxis\u001b[0m\u001b[0;34m.\u001b[0m\u001b[0mdrop\u001b[0m\u001b[0;34m(\u001b[0m\u001b[0mlabels\u001b[0m\u001b[0;34m,\u001b[0m \u001b[0mlevel\u001b[0m\u001b[0;34m=\u001b[0m\u001b[0mlevel\u001b[0m\u001b[0;34m,\u001b[0m \u001b[0merrors\u001b[0m\u001b[0;34m=\u001b[0m\u001b[0merrors\u001b[0m\u001b[0;34m)\u001b[0m\u001b[0;34m\u001b[0m\u001b[0m\n\u001b[1;32m   3142\u001b[0m             \u001b[0;32melse\u001b[0m\u001b[0;34m:\u001b[0m\u001b[0;34m\u001b[0m\u001b[0m\n\u001b[0;32m-> 3143\u001b[0;31m                 \u001b[0mnew_axis\u001b[0m \u001b[0;34m=\u001b[0m \u001b[0maxis\u001b[0m\u001b[0;34m.\u001b[0m\u001b[0mdrop\u001b[0m\u001b[0;34m(\u001b[0m\u001b[0mlabels\u001b[0m\u001b[0;34m,\u001b[0m \u001b[0merrors\u001b[0m\u001b[0;34m=\u001b[0m\u001b[0merrors\u001b[0m\u001b[0;34m)\u001b[0m\u001b[0;34m\u001b[0m\u001b[0m\n\u001b[0m\u001b[1;32m   3144\u001b[0m             \u001b[0mresult\u001b[0m \u001b[0;34m=\u001b[0m \u001b[0mself\u001b[0m\u001b[0;34m.\u001b[0m\u001b[0mreindex\u001b[0m\u001b[0;34m(\u001b[0m\u001b[0;34m**\u001b[0m\u001b[0;34m{\u001b[0m\u001b[0maxis_name\u001b[0m\u001b[0;34m:\u001b[0m \u001b[0mnew_axis\u001b[0m\u001b[0;34m}\u001b[0m\u001b[0;34m)\u001b[0m\u001b[0;34m\u001b[0m\u001b[0m\n\u001b[1;32m   3145\u001b[0m \u001b[0;34m\u001b[0m\u001b[0m\n",
      "\u001b[0;32m/anaconda3/envs/PythonData/lib/python3.6/site-packages/pandas/core/indexes/base.py\u001b[0m in \u001b[0;36mdrop\u001b[0;34m(self, labels, errors)\u001b[0m\n\u001b[1;32m   4402\u001b[0m             \u001b[0;32mif\u001b[0m \u001b[0merrors\u001b[0m \u001b[0;34m!=\u001b[0m \u001b[0;34m'ignore'\u001b[0m\u001b[0;34m:\u001b[0m\u001b[0;34m\u001b[0m\u001b[0m\n\u001b[1;32m   4403\u001b[0m                 raise KeyError(\n\u001b[0;32m-> 4404\u001b[0;31m                     '{} not found in axis'.format(labels[mask]))\n\u001b[0m\u001b[1;32m   4405\u001b[0m             \u001b[0mindexer\u001b[0m \u001b[0;34m=\u001b[0m \u001b[0mindexer\u001b[0m\u001b[0;34m[\u001b[0m\u001b[0;34m~\u001b[0m\u001b[0mmask\u001b[0m\u001b[0;34m]\u001b[0m\u001b[0;34m\u001b[0m\u001b[0m\n\u001b[1;32m   4406\u001b[0m         \u001b[0;32mreturn\u001b[0m \u001b[0mself\u001b[0m\u001b[0;34m.\u001b[0m\u001b[0mdelete\u001b[0m\u001b[0;34m(\u001b[0m\u001b[0mindexer\u001b[0m\u001b[0;34m)\u001b[0m\u001b[0;34m\u001b[0m\u001b[0m\n",
      "\u001b[0;31mKeyError\u001b[0m: \"['Series ID'] not found in axis\""
     ]
    }
   ],
   "source": [
    "#Drop column and see shape\n",
    "table1 = table1.drop(columns=[\"Series ID\"])\n",
    "table1.shape"
   ]
  },
  {
   "cell_type": "code",
   "execution_count": null,
   "metadata": {},
   "outputs": [],
   "source": [
    "#Select all rows, state column and years from 2010 to 2018\n",
    "df = table1.iloc[:, np.r_[0, 409:514]]"
   ]
  },
  {
   "cell_type": "code",
   "execution_count": null,
   "metadata": {},
   "outputs": [],
   "source": [
    "#Set index to state before transposing\n",
    "df = df.set_index(\"State\")\n",
    "\n",
    "#Switch rows and columns\n",
    "df = df.T"
   ]
  },
  {
   "cell_type": "code",
   "execution_count": null,
   "metadata": {},
   "outputs": [],
   "source": [
    "df.reset_index(drop=True)"
   ]
  },
  {
   "cell_type": "code",
   "execution_count": null,
   "metadata": {},
   "outputs": [],
   "source": [
    "#Change index column to date\n",
    "df.index.name = \"Date\""
   ]
  },
  {
   "cell_type": "code",
   "execution_count": null,
   "metadata": {},
   "outputs": [],
   "source": [
    "df.columns.name = None\n",
    "df.reset_index() #make index become label"
   ]
  },
  {
   "cell_type": "code",
   "execution_count": null,
   "metadata": {},
   "outputs": [],
   "source": [
    "#Convert index column to pandas datetime\n",
    "df.index = pd.to_datetime(df.index)"
   ]
  },
  {
   "cell_type": "code",
   "execution_count": null,
   "metadata": {},
   "outputs": [],
   "source": [
    "#GEt rid of weird data\n",
    "df = df.iloc[:102, :]"
   ]
  },
  {
   "cell_type": "code",
   "execution_count": null,
   "metadata": {},
   "outputs": [],
   "source": [
    "#Change data type from object to numeric dtype\n",
    "df = df.apply(pd.to_numeric, errors = 'coerce')"
   ]
  },
  {
   "cell_type": "code",
   "execution_count": null,
   "metadata": {},
   "outputs": [],
   "source": [
    "#Group dataframe by quorters and calcuate the mean\n",
    "state_unemployment = df.resample('Q-JAN', convention='end').agg('mean')"
   ]
  },
  {
   "cell_type": "code",
   "execution_count": null,
   "metadata": {},
   "outputs": [],
   "source": [
    "weed_states = [\"Alaska\", \"California\", \"Colorado\", \"Maine\", \"Massachusetts\", \"Nevada\", \"Oregon\", \n",
    "               \"Vermont\", \"Washington\", \"Washington D.C.\"]"
   ]
  },
  {
   "cell_type": "code",
   "execution_count": null,
   "metadata": {},
   "outputs": [],
   "source": [
    "%matplotlib inline\n",
    "plt.figure(figsize=(12,8))\n",
    "plt.plot(state_unemployment.index, state_unemployment[weed_states])\n",
    "plt.show\n",
    "plt.legend(state_unemployment[weed_states], loc = 'best')\n",
    "plt.xticks(rotation=45)\n",
    "plt.title(\"Unemployment trends in states that have legalized marijuana\")"
   ]
  },
  {
   "cell_type": "code",
   "execution_count": null,
   "metadata": {},
   "outputs": [],
   "source": [
    "table2 = pd.read_sql_query(\"SELECT * from state_employment\", conn)"
   ]
  },
  {
   "cell_type": "code",
   "execution_count": null,
   "metadata": {},
   "outputs": [],
   "source": [
    "table2 = table2.drop(columns=[\"GeoFips\"])"
   ]
  },
  {
   "cell_type": "code",
   "execution_count": null,
   "metadata": {},
   "outputs": [],
   "source": [
    "state_employment = table2.iloc[:52, np.r_[0, 13:21]]\n",
    "state_employment"
   ]
  },
  {
   "cell_type": "code",
   "execution_count": null,
   "metadata": {},
   "outputs": [],
   "source": [
    "table3 = pd.read_sql_query(\"SELECT * from state_gdp\", conn)\n",
    "table3 = table3.drop(columns=[\"Fips\"])\n",
    "table3.shape"
   ]
  },
  {
   "cell_type": "code",
   "execution_count": null,
   "metadata": {},
   "outputs": [],
   "source": [
    "#Select data between 2010 and 2017\n",
    "state_gdp = table3.iloc[:, np.r_[0:3, 23:56]]"
   ]
  },
  {
   "cell_type": "code",
   "execution_count": null,
   "metadata": {},
   "outputs": [],
   "source": [
    "#Convert objects to floats\n",
    "for i in range(3, len(state_gdp.columns)):\n",
    "    state_gdp.iloc[:, i] = pd.to_numeric(state_gdp.iloc[:, i], errors = \"coerce\")\n",
    "state_gdp\n"
   ]
  },
  {
   "cell_type": "code",
   "execution_count": null,
   "metadata": {},
   "outputs": [],
   "source": [
    "table4 = pd.read_sql_query(\"SELECT * from state_population\", conn)\n",
    "table5 = pd.read_sql_query(\"SELECT * from national_unemployment\", conn)\n",
    "table4"
   ]
  },
  {
   "cell_type": "code",
   "execution_count": null,
   "metadata": {},
   "outputs": [],
   "source": [
    "state_population = table4.iloc[:52, np.r_[1, 50:84]]"
   ]
  },
  {
   "cell_type": "code",
   "execution_count": null,
   "metadata": {},
   "outputs": [],
   "source": [
    "national_unemployment = table5.iloc[744:, :]"
   ]
  },
  {
   "cell_type": "code",
   "execution_count": 13,
   "metadata": {},
   "outputs": [
    {
     "ename": "NameError",
     "evalue": "name 'national_unemployment' is not defined",
     "output_type": "error",
     "traceback": [
      "\u001b[0;31m---------------------------------------------------------------------------\u001b[0m",
      "\u001b[0;31mNameError\u001b[0m                                 Traceback (most recent call last)",
      "\u001b[0;32m<ipython-input-13-e4d3d84aacf6>\u001b[0m in \u001b[0;36m<module>\u001b[0;34m()\u001b[0m\n\u001b[1;32m      1\u001b[0m \u001b[0;31m#Overwriting the existing db with clean data\u001b[0m\u001b[0;34m\u001b[0m\u001b[0;34m\u001b[0m\u001b[0m\n\u001b[1;32m      2\u001b[0m \u001b[0;34m\u001b[0m\u001b[0m\n\u001b[0;32m----> 3\u001b[0;31m \u001b[0mnational_unemployment\u001b[0m\u001b[0;34m.\u001b[0m\u001b[0mto_sql\u001b[0m\u001b[0;34m(\u001b[0m\u001b[0;34m\"national_unemployment\"\u001b[0m\u001b[0;34m,\u001b[0m \u001b[0mconn\u001b[0m\u001b[0;34m,\u001b[0m \u001b[0mif_exists\u001b[0m\u001b[0;34m=\u001b[0m\u001b[0;34m\"replace\"\u001b[0m\u001b[0;34m)\u001b[0m\u001b[0;34m\u001b[0m\u001b[0m\n\u001b[0m\u001b[1;32m      4\u001b[0m \u001b[0mstate_population\u001b[0m\u001b[0;34m.\u001b[0m\u001b[0mto_sql\u001b[0m\u001b[0;34m(\u001b[0m\u001b[0;34m\"state_population\"\u001b[0m\u001b[0;34m,\u001b[0m \u001b[0mconn\u001b[0m\u001b[0;34m,\u001b[0m \u001b[0mif_exists\u001b[0m\u001b[0;34m=\u001b[0m\u001b[0;34m\"replace\"\u001b[0m\u001b[0;34m)\u001b[0m\u001b[0;34m\u001b[0m\u001b[0m\n\u001b[1;32m      5\u001b[0m \u001b[0mstate_gdp\u001b[0m\u001b[0;34m.\u001b[0m\u001b[0mto_sql\u001b[0m\u001b[0;34m(\u001b[0m\u001b[0;34m\"state_gdp\"\u001b[0m\u001b[0;34m,\u001b[0m \u001b[0mconn\u001b[0m\u001b[0;34m,\u001b[0m \u001b[0mif_exists\u001b[0m\u001b[0;34m=\u001b[0m\u001b[0;34m\"replace\"\u001b[0m\u001b[0;34m)\u001b[0m\u001b[0;34m\u001b[0m\u001b[0m\n",
      "\u001b[0;31mNameError\u001b[0m: name 'national_unemployment' is not defined"
     ]
    }
   ],
   "source": [
    "#Overwriting the existing db with clean data\n",
    "\n",
    "national_unemployment.to_sql(\"national_unemployment\", conn, if_exists=\"replace\")\n",
    "state_population.to_sql(\"state_population\", conn, if_exists=\"replace\")\n",
    "state_gdp.to_sql(\"state_gdp\", conn, if_exists=\"replace\")\n",
    "state_employment.to_sql(\"state_employment\", conn, if_exists=\"replace\")\n",
    "state_unemployment.to_sql(\"state_unemployment\", conn, if_exists=\"replace\")"
   ]
  },
  {
   "cell_type": "code",
   "execution_count": null,
   "metadata": {},
   "outputs": [],
   "source": [
    "df = pd.read_excel(\"/Users/daryarudych/Desktop/repos/Project2_Group1/db/2017_stc.xlsx\", index_col = 0, header = 7)\n",
    "df.dropna(how='any', inplace=True)\n",
    "df = df.replace('X', np.nan)\n",
    "df"
   ]
  },
  {
   "cell_type": "code",
   "execution_count": null,
   "metadata": {},
   "outputs": [],
   "source": [
    "df = df.T"
   ]
  },
  {
   "cell_type": "code",
   "execution_count": null,
   "metadata": {},
   "outputs": [],
   "source": [
    "#Importing 2017 state tax to excel \n",
    "df.to_excel(\"/Users/daryarudych/Desktop/repos/Project2_Group1/db/2017_stc.xlsx\")"
   ]
  },
  {
   "cell_type": "code",
   "execution_count": null,
   "metadata": {},
   "outputs": [],
   "source": [
    "df2011 = pd.read_excel(\"/Users/daryarudych/Desktop/repos/Project2_Group1/db/2011_stc.xls\", index_col = 0, header = 3)\n",
    "df2011 = df2011[df2011.columns.drop(list(df2011.filter(regex='Unnamed')))]"
   ]
  },
  {
   "cell_type": "code",
   "execution_count": null,
   "metadata": {},
   "outputs": [],
   "source": [
    "df2011.drop(columns=[\"United States\"])\n",
    "df2011 = df2011.iloc[4:35, :]\n",
    "df2011"
   ]
  },
  {
   "cell_type": "code",
   "execution_count": null,
   "metadata": {},
   "outputs": [],
   "source": [
    "df2011.set_index(\"Item\")\n",
    "df2011 = df2011.T"
   ]
  },
  {
   "cell_type": "code",
   "execution_count": null,
   "metadata": {},
   "outputs": [],
   "source": [
    "df2011"
   ]
  },
  {
   "cell_type": "code",
   "execution_count": null,
   "metadata": {},
   "outputs": [],
   "source": [
    "df2011.to_excel(\"/Users/daryarudych/Desktop/repos/Project2_Group1/db/2011_stc.xlsx\")\n"
   ]
  },
  {
   "cell_type": "markdown",
   "metadata": {},
   "source": [
    "## Statistical Testing \n",
    "\n",
    "1. We will conduct pre- and post legalization comparison to determine if there is a difference in metrics following a weed intervention.\n",
    "2. We choose paired t-test as it's best suited to compare the means of the two samples of related data. \n",
    "3. Our null-hypothesis assumes that the true mean difference between the paired samples is zero which means any difference between pre- and post metrics is due to random variation. \n",
    "4. Our alternative hypothesis assumes that the true mean difference between the paired samples is not equal to zero and is due to herb leaglization."
   ]
  },
  {
   "cell_type": "code",
   "execution_count": 7,
   "metadata": {},
   "outputs": [],
   "source": [
    "legalization = [{\"state\" : \"Alaska\", \"year\": 2014}, {\"state\" : \"California\", \"year\": 2016},\n",
    "                {\"state\":\"Colorado\", \"year\" : 2012}, {\"state\": \"Maine\", \"year\" : 2016}, \n",
    "                {\"state\":\"Massachusetts\", \"year\":2016}, {\"state\":\"Nevada\", \"year\":2016}, \n",
    "                {\"state\":\"Oregon\", \"year\": 2014}, {\"state\" : \"Vermont\", \"year\": 2018}, \n",
    "                {\"state\" :\"Washington\", \"year\":2012}, {\"state\":\"Washington D.C.\",\"year\": 2015}]\n"
   ]
  },
  {
   "cell_type": "code",
   "execution_count": 8,
   "metadata": {},
   "outputs": [
    {
     "data": {
      "text/html": [
       "<div>\n",
       "<style scoped>\n",
       "    .dataframe tbody tr th:only-of-type {\n",
       "        vertical-align: middle;\n",
       "    }\n",
       "\n",
       "    .dataframe tbody tr th {\n",
       "        vertical-align: top;\n",
       "    }\n",
       "\n",
       "    .dataframe thead th {\n",
       "        text-align: right;\n",
       "    }\n",
       "</style>\n",
       "<table border=\"1\" class=\"dataframe\">\n",
       "  <thead>\n",
       "    <tr style=\"text-align: right;\">\n",
       "      <th></th>\n",
       "      <th>State</th>\n",
       "      <th>Year</th>\n",
       "      <th>Quarter</th>\n",
       "      <th>Value</th>\n",
       "    </tr>\n",
       "  </thead>\n",
       "  <tbody>\n",
       "    <tr>\n",
       "      <th>0</th>\n",
       "      <td>Alaska</td>\n",
       "      <td>2010</td>\n",
       "      <td>1</td>\n",
       "      <td>708451</td>\n",
       "    </tr>\n",
       "    <tr>\n",
       "      <th>1</th>\n",
       "      <td>Alaska</td>\n",
       "      <td>2010</td>\n",
       "      <td>2</td>\n",
       "      <td>712138</td>\n",
       "    </tr>\n",
       "    <tr>\n",
       "      <th>2</th>\n",
       "      <td>Alaska</td>\n",
       "      <td>2010</td>\n",
       "      <td>3</td>\n",
       "      <td>715138</td>\n",
       "    </tr>\n",
       "    <tr>\n",
       "      <th>3</th>\n",
       "      <td>Alaska</td>\n",
       "      <td>2010</td>\n",
       "      <td>4</td>\n",
       "      <td>717270</td>\n",
       "    </tr>\n",
       "    <tr>\n",
       "      <th>4</th>\n",
       "      <td>Alaska</td>\n",
       "      <td>2011</td>\n",
       "      <td>1</td>\n",
       "      <td>719235</td>\n",
       "    </tr>\n",
       "    <tr>\n",
       "      <th>5</th>\n",
       "      <td>Alaska</td>\n",
       "      <td>2011</td>\n",
       "      <td>2</td>\n",
       "      <td>721207</td>\n",
       "    </tr>\n",
       "    <tr>\n",
       "      <th>6</th>\n",
       "      <td>Alaska</td>\n",
       "      <td>2011</td>\n",
       "      <td>3</td>\n",
       "      <td>723403</td>\n",
       "    </tr>\n",
       "    <tr>\n",
       "      <th>7</th>\n",
       "      <td>Alaska</td>\n",
       "      <td>2011</td>\n",
       "      <td>4</td>\n",
       "      <td>725607</td>\n",
       "    </tr>\n",
       "    <tr>\n",
       "      <th>8</th>\n",
       "      <td>Alaska</td>\n",
       "      <td>2012</td>\n",
       "      <td>1</td>\n",
       "      <td>727693</td>\n",
       "    </tr>\n",
       "    <tr>\n",
       "      <th>9</th>\n",
       "      <td>Alaska</td>\n",
       "      <td>2012</td>\n",
       "      <td>2</td>\n",
       "      <td>729748</td>\n",
       "    </tr>\n",
       "    <tr>\n",
       "      <th>10</th>\n",
       "      <td>Alaska</td>\n",
       "      <td>2012</td>\n",
       "      <td>3</td>\n",
       "      <td>731690</td>\n",
       "    </tr>\n",
       "    <tr>\n",
       "      <th>11</th>\n",
       "      <td>Alaska</td>\n",
       "      <td>2012</td>\n",
       "      <td>4</td>\n",
       "      <td>733305</td>\n",
       "    </tr>\n",
       "    <tr>\n",
       "      <th>12</th>\n",
       "      <td>Alaska</td>\n",
       "      <td>2013</td>\n",
       "      <td>1</td>\n",
       "      <td>734656</td>\n",
       "    </tr>\n",
       "    <tr>\n",
       "      <th>13</th>\n",
       "      <td>Alaska</td>\n",
       "      <td>2013</td>\n",
       "      <td>2</td>\n",
       "      <td>736000</td>\n",
       "    </tr>\n",
       "    <tr>\n",
       "      <th>14</th>\n",
       "      <td>Alaska</td>\n",
       "      <td>2013</td>\n",
       "      <td>3</td>\n",
       "      <td>736802</td>\n",
       "    </tr>\n",
       "    <tr>\n",
       "      <th>15</th>\n",
       "      <td>Alaska</td>\n",
       "      <td>2013</td>\n",
       "      <td>4</td>\n",
       "      <td>736924</td>\n",
       "    </tr>\n",
       "    <tr>\n",
       "      <th>16</th>\n",
       "      <td>Alaska</td>\n",
       "      <td>2014</td>\n",
       "      <td>1</td>\n",
       "      <td>736847</td>\n",
       "    </tr>\n",
       "    <tr>\n",
       "      <th>17</th>\n",
       "      <td>Alaska</td>\n",
       "      <td>2014</td>\n",
       "      <td>2</td>\n",
       "      <td>736755</td>\n",
       "    </tr>\n",
       "    <tr>\n",
       "      <th>18</th>\n",
       "      <td>Alaska</td>\n",
       "      <td>2014</td>\n",
       "      <td>3</td>\n",
       "      <td>737020</td>\n",
       "    </tr>\n",
       "    <tr>\n",
       "      <th>19</th>\n",
       "      <td>Alaska</td>\n",
       "      <td>2014</td>\n",
       "      <td>4</td>\n",
       "      <td>737470</td>\n",
       "    </tr>\n",
       "    <tr>\n",
       "      <th>20</th>\n",
       "      <td>Alaska</td>\n",
       "      <td>2015</td>\n",
       "      <td>1</td>\n",
       "      <td>737638</td>\n",
       "    </tr>\n",
       "    <tr>\n",
       "      <th>21</th>\n",
       "      <td>Alaska</td>\n",
       "      <td>2015</td>\n",
       "      <td>2</td>\n",
       "      <td>737825</td>\n",
       "    </tr>\n",
       "    <tr>\n",
       "      <th>22</th>\n",
       "      <td>Alaska</td>\n",
       "      <td>2015</td>\n",
       "      <td>3</td>\n",
       "      <td>738500</td>\n",
       "    </tr>\n",
       "    <tr>\n",
       "      <th>23</th>\n",
       "      <td>Alaska</td>\n",
       "      <td>2015</td>\n",
       "      <td>4</td>\n",
       "      <td>739458</td>\n",
       "    </tr>\n",
       "    <tr>\n",
       "      <th>24</th>\n",
       "      <td>Alaska</td>\n",
       "      <td>2016</td>\n",
       "      <td>1</td>\n",
       "      <td>740215</td>\n",
       "    </tr>\n",
       "    <tr>\n",
       "      <th>25</th>\n",
       "      <td>Alaska</td>\n",
       "      <td>2016</td>\n",
       "      <td>2</td>\n",
       "      <td>741041</td>\n",
       "    </tr>\n",
       "    <tr>\n",
       "      <th>26</th>\n",
       "      <td>Alaska</td>\n",
       "      <td>2016</td>\n",
       "      <td>3</td>\n",
       "      <td>741367</td>\n",
       "    </tr>\n",
       "    <tr>\n",
       "      <th>27</th>\n",
       "      <td>Alaska</td>\n",
       "      <td>2016</td>\n",
       "      <td>4</td>\n",
       "      <td>741027</td>\n",
       "    </tr>\n",
       "    <tr>\n",
       "      <th>28</th>\n",
       "      <td>Alaska</td>\n",
       "      <td>2017</td>\n",
       "      <td>1</td>\n",
       "      <td>740491</td>\n",
       "    </tr>\n",
       "    <tr>\n",
       "      <th>29</th>\n",
       "      <td>Alaska</td>\n",
       "      <td>2017</td>\n",
       "      <td>2</td>\n",
       "      <td>739976</td>\n",
       "    </tr>\n",
       "    <tr>\n",
       "      <th>...</th>\n",
       "      <td>...</td>\n",
       "      <td>...</td>\n",
       "      <td>...</td>\n",
       "      <td>...</td>\n",
       "    </tr>\n",
       "    <tr>\n",
       "      <th>310</th>\n",
       "      <td>Washington</td>\n",
       "      <td>2011</td>\n",
       "      <td>1</td>\n",
       "      <td>6790678</td>\n",
       "    </tr>\n",
       "    <tr>\n",
       "      <th>311</th>\n",
       "      <td>Washington</td>\n",
       "      <td>2011</td>\n",
       "      <td>2</td>\n",
       "      <td>6809164</td>\n",
       "    </tr>\n",
       "    <tr>\n",
       "      <th>312</th>\n",
       "      <td>Washington</td>\n",
       "      <td>2011</td>\n",
       "      <td>3</td>\n",
       "      <td>6828957</td>\n",
       "    </tr>\n",
       "    <tr>\n",
       "      <th>313</th>\n",
       "      <td>Washington</td>\n",
       "      <td>2011</td>\n",
       "      <td>4</td>\n",
       "      <td>6847724</td>\n",
       "    </tr>\n",
       "    <tr>\n",
       "      <th>314</th>\n",
       "      <td>Washington</td>\n",
       "      <td>2012</td>\n",
       "      <td>1</td>\n",
       "      <td>6864711</td>\n",
       "    </tr>\n",
       "    <tr>\n",
       "      <th>315</th>\n",
       "      <td>Washington</td>\n",
       "      <td>2012</td>\n",
       "      <td>2</td>\n",
       "      <td>6881786</td>\n",
       "    </tr>\n",
       "    <tr>\n",
       "      <th>316</th>\n",
       "      <td>Washington</td>\n",
       "      <td>2012</td>\n",
       "      <td>3</td>\n",
       "      <td>6901329</td>\n",
       "    </tr>\n",
       "    <tr>\n",
       "      <th>317</th>\n",
       "      <td>Washington</td>\n",
       "      <td>2012</td>\n",
       "      <td>4</td>\n",
       "      <td>6920968</td>\n",
       "    </tr>\n",
       "    <tr>\n",
       "      <th>318</th>\n",
       "      <td>Washington</td>\n",
       "      <td>2013</td>\n",
       "      <td>1</td>\n",
       "      <td>6937224</td>\n",
       "    </tr>\n",
       "    <tr>\n",
       "      <th>319</th>\n",
       "      <td>Washington</td>\n",
       "      <td>2013</td>\n",
       "      <td>2</td>\n",
       "      <td>6954090</td>\n",
       "    </tr>\n",
       "    <tr>\n",
       "      <th>320</th>\n",
       "      <td>Washington</td>\n",
       "      <td>2013</td>\n",
       "      <td>3</td>\n",
       "      <td>6974627</td>\n",
       "    </tr>\n",
       "    <tr>\n",
       "      <th>321</th>\n",
       "      <td>Washington</td>\n",
       "      <td>2013</td>\n",
       "      <td>4</td>\n",
       "      <td>6996836</td>\n",
       "    </tr>\n",
       "    <tr>\n",
       "      <th>322</th>\n",
       "      <td>Washington</td>\n",
       "      <td>2014</td>\n",
       "      <td>1</td>\n",
       "      <td>7016466</td>\n",
       "    </tr>\n",
       "    <tr>\n",
       "      <th>323</th>\n",
       "      <td>Washington</td>\n",
       "      <td>2014</td>\n",
       "      <td>2</td>\n",
       "      <td>7036366</td>\n",
       "    </tr>\n",
       "    <tr>\n",
       "      <th>324</th>\n",
       "      <td>Washington</td>\n",
       "      <td>2014</td>\n",
       "      <td>3</td>\n",
       "      <td>7061543</td>\n",
       "    </tr>\n",
       "    <tr>\n",
       "      <th>325</th>\n",
       "      <td>Washington</td>\n",
       "      <td>2014</td>\n",
       "      <td>4</td>\n",
       "      <td>7089533</td>\n",
       "    </tr>\n",
       "    <tr>\n",
       "      <th>326</th>\n",
       "      <td>Washington</td>\n",
       "      <td>2015</td>\n",
       "      <td>1</td>\n",
       "      <td>7114186</td>\n",
       "    </tr>\n",
       "    <tr>\n",
       "      <th>327</th>\n",
       "      <td>Washington</td>\n",
       "      <td>2015</td>\n",
       "      <td>2</td>\n",
       "      <td>7139441</td>\n",
       "    </tr>\n",
       "    <tr>\n",
       "      <th>328</th>\n",
       "      <td>Washington</td>\n",
       "      <td>2015</td>\n",
       "      <td>3</td>\n",
       "      <td>7169920</td>\n",
       "    </tr>\n",
       "    <tr>\n",
       "      <th>329</th>\n",
       "      <td>Washington</td>\n",
       "      <td>2015</td>\n",
       "      <td>4</td>\n",
       "      <td>7203150</td>\n",
       "    </tr>\n",
       "    <tr>\n",
       "      <th>330</th>\n",
       "      <td>Washington</td>\n",
       "      <td>2016</td>\n",
       "      <td>1</td>\n",
       "      <td>7233510</td>\n",
       "    </tr>\n",
       "    <tr>\n",
       "      <th>331</th>\n",
       "      <td>Washington</td>\n",
       "      <td>2016</td>\n",
       "      <td>2</td>\n",
       "      <td>7264642</td>\n",
       "    </tr>\n",
       "    <tr>\n",
       "      <th>332</th>\n",
       "      <td>Washington</td>\n",
       "      <td>2016</td>\n",
       "      <td>3</td>\n",
       "      <td>7297420</td>\n",
       "    </tr>\n",
       "    <tr>\n",
       "      <th>333</th>\n",
       "      <td>Washington</td>\n",
       "      <td>2016</td>\n",
       "      <td>4</td>\n",
       "      <td>7329728</td>\n",
       "    </tr>\n",
       "    <tr>\n",
       "      <th>334</th>\n",
       "      <td>Washington</td>\n",
       "      <td>2017</td>\n",
       "      <td>1</td>\n",
       "      <td>7359619</td>\n",
       "    </tr>\n",
       "    <tr>\n",
       "      <th>335</th>\n",
       "      <td>Washington</td>\n",
       "      <td>2017</td>\n",
       "      <td>2</td>\n",
       "      <td>7389774</td>\n",
       "    </tr>\n",
       "    <tr>\n",
       "      <th>336</th>\n",
       "      <td>Washington</td>\n",
       "      <td>2017</td>\n",
       "      <td>3</td>\n",
       "      <td>7422450</td>\n",
       "    </tr>\n",
       "    <tr>\n",
       "      <th>337</th>\n",
       "      <td>Washington</td>\n",
       "      <td>2017</td>\n",
       "      <td>4</td>\n",
       "      <td>7454960</td>\n",
       "    </tr>\n",
       "    <tr>\n",
       "      <th>338</th>\n",
       "      <td>Washington</td>\n",
       "      <td>2018</td>\n",
       "      <td>1</td>\n",
       "      <td>7485078</td>\n",
       "    </tr>\n",
       "    <tr>\n",
       "      <th>339</th>\n",
       "      <td>Washington</td>\n",
       "      <td>2018</td>\n",
       "      <td>2</td>\n",
       "      <td>7515697</td>\n",
       "    </tr>\n",
       "  </tbody>\n",
       "</table>\n",
       "<p>340 rows × 4 columns</p>\n",
       "</div>"
      ],
      "text/plain": [
       "          State  Year  Quarter    Value\n",
       "0        Alaska  2010        1   708451\n",
       "1        Alaska  2010        2   712138\n",
       "2        Alaska  2010        3   715138\n",
       "3        Alaska  2010        4   717270\n",
       "4        Alaska  2011        1   719235\n",
       "5        Alaska  2011        2   721207\n",
       "6        Alaska  2011        3   723403\n",
       "7        Alaska  2011        4   725607\n",
       "8        Alaska  2012        1   727693\n",
       "9        Alaska  2012        2   729748\n",
       "10       Alaska  2012        3   731690\n",
       "11       Alaska  2012        4   733305\n",
       "12       Alaska  2013        1   734656\n",
       "13       Alaska  2013        2   736000\n",
       "14       Alaska  2013        3   736802\n",
       "15       Alaska  2013        4   736924\n",
       "16       Alaska  2014        1   736847\n",
       "17       Alaska  2014        2   736755\n",
       "18       Alaska  2014        3   737020\n",
       "19       Alaska  2014        4   737470\n",
       "20       Alaska  2015        1   737638\n",
       "21       Alaska  2015        2   737825\n",
       "22       Alaska  2015        3   738500\n",
       "23       Alaska  2015        4   739458\n",
       "24       Alaska  2016        1   740215\n",
       "25       Alaska  2016        2   741041\n",
       "26       Alaska  2016        3   741367\n",
       "27       Alaska  2016        4   741027\n",
       "28       Alaska  2017        1   740491\n",
       "29       Alaska  2017        2   739976\n",
       "..          ...   ...      ...      ...\n",
       "310  Washington  2011        1  6790678\n",
       "311  Washington  2011        2  6809164\n",
       "312  Washington  2011        3  6828957\n",
       "313  Washington  2011        4  6847724\n",
       "314  Washington  2012        1  6864711\n",
       "315  Washington  2012        2  6881786\n",
       "316  Washington  2012        3  6901329\n",
       "317  Washington  2012        4  6920968\n",
       "318  Washington  2013        1  6937224\n",
       "319  Washington  2013        2  6954090\n",
       "320  Washington  2013        3  6974627\n",
       "321  Washington  2013        4  6996836\n",
       "322  Washington  2014        1  7016466\n",
       "323  Washington  2014        2  7036366\n",
       "324  Washington  2014        3  7061543\n",
       "325  Washington  2014        4  7089533\n",
       "326  Washington  2015        1  7114186\n",
       "327  Washington  2015        2  7139441\n",
       "328  Washington  2015        3  7169920\n",
       "329  Washington  2015        4  7203150\n",
       "330  Washington  2016        1  7233510\n",
       "331  Washington  2016        2  7264642\n",
       "332  Washington  2016        3  7297420\n",
       "333  Washington  2016        4  7329728\n",
       "334  Washington  2017        1  7359619\n",
       "335  Washington  2017        2  7389774\n",
       "336  Washington  2017        3  7422450\n",
       "337  Washington  2017        4  7454960\n",
       "338  Washington  2018        1  7485078\n",
       "339  Washington  2018        2  7515697\n",
       "\n",
       "[340 rows x 4 columns]"
      ]
     },
     "execution_count": 8,
     "metadata": {},
     "output_type": "execute_result"
    }
   ],
   "source": [
    "weed_df = pd.read_excel(\"/Users/daryarudych/Desktop/repos/Project2_Group1/db/weed_df.xlsx\")\n",
    "weed_df"
   ]
  },
  {
   "cell_type": "code",
   "execution_count": 9,
   "metadata": {},
   "outputs": [
    {
     "data": {
      "text/html": [
       "<div>\n",
       "<style scoped>\n",
       "    .dataframe tbody tr th:only-of-type {\n",
       "        vertical-align: middle;\n",
       "    }\n",
       "\n",
       "    .dataframe tbody tr th {\n",
       "        vertical-align: top;\n",
       "    }\n",
       "\n",
       "    .dataframe thead th {\n",
       "        text-align: right;\n",
       "    }\n",
       "</style>\n",
       "<table border=\"1\" class=\"dataframe\">\n",
       "  <thead>\n",
       "    <tr style=\"text-align: right;\">\n",
       "      <th></th>\n",
       "      <th>State</th>\n",
       "      <th>Pre_Avg</th>\n",
       "      <th>Post_Avg</th>\n",
       "    </tr>\n",
       "  </thead>\n",
       "  <tbody>\n",
       "    <tr>\n",
       "      <th>0</th>\n",
       "      <td>Alaska</td>\n",
       "      <td>7.255792e+05</td>\n",
       "      <td>7.389941e+05</td>\n",
       "    </tr>\n",
       "    <tr>\n",
       "      <th>1</th>\n",
       "      <td>California</td>\n",
       "      <td>3.818956e+07</td>\n",
       "      <td>3.947913e+07</td>\n",
       "    </tr>\n",
       "    <tr>\n",
       "      <th>2</th>\n",
       "      <td>Colorado</td>\n",
       "      <td>5.082540e+06</td>\n",
       "      <td>5.416391e+06</td>\n",
       "    </tr>\n",
       "    <tr>\n",
       "      <th>3</th>\n",
       "      <td>Maine</td>\n",
       "      <td>1.328348e+06</td>\n",
       "      <td>1.334776e+06</td>\n",
       "    </tr>\n",
       "    <tr>\n",
       "      <th>4</th>\n",
       "      <td>Massachusetts</td>\n",
       "      <td>6.683550e+06</td>\n",
       "      <td>6.851559e+06</td>\n",
       "    </tr>\n",
       "    <tr>\n",
       "      <th>5</th>\n",
       "      <td>Nevada</td>\n",
       "      <td>2.780551e+06</td>\n",
       "      <td>2.983964e+06</td>\n",
       "    </tr>\n",
       "    <tr>\n",
       "      <th>6</th>\n",
       "      <td>Oregon</td>\n",
       "      <td>3.880205e+06</td>\n",
       "      <td>4.067419e+06</td>\n",
       "    </tr>\n",
       "    <tr>\n",
       "      <th>7</th>\n",
       "      <td>Vermont</td>\n",
       "      <td>6.251717e+05</td>\n",
       "      <td>6.238845e+05</td>\n",
       "    </tr>\n",
       "    <tr>\n",
       "      <th>8</th>\n",
       "      <td>Washington</td>\n",
       "      <td>6.781260e+06</td>\n",
       "      <td>7.154425e+06</td>\n",
       "    </tr>\n",
       "    <tr>\n",
       "      <th>9</th>\n",
       "      <td>Washington D.C.</td>\n",
       "      <td>6.344655e+05</td>\n",
       "      <td>6.861919e+05</td>\n",
       "    </tr>\n",
       "  </tbody>\n",
       "</table>\n",
       "</div>"
      ],
      "text/plain": [
       "             State       Pre_Avg      Post_Avg\n",
       "0           Alaska  7.255792e+05  7.389941e+05\n",
       "1       California  3.818956e+07  3.947913e+07\n",
       "2         Colorado  5.082540e+06  5.416391e+06\n",
       "3            Maine  1.328348e+06  1.334776e+06\n",
       "4    Massachusetts  6.683550e+06  6.851559e+06\n",
       "5           Nevada  2.780551e+06  2.983964e+06\n",
       "6           Oregon  3.880205e+06  4.067419e+06\n",
       "7          Vermont  6.251717e+05  6.238845e+05\n",
       "8       Washington  6.781260e+06  7.154425e+06\n",
       "9  Washington D.C.  6.344655e+05  6.861919e+05"
      ]
     },
     "execution_count": 9,
     "metadata": {},
     "output_type": "execute_result"
    }
   ],
   "source": [
    "#Calculating average population pre and post weed legalization\n",
    "\n",
    "pre_avg = []\n",
    "post_avg = []\n",
    "states = []\n",
    "for li in legalization:\n",
    "    states.append(li[\"state\"])\n",
    "    pre_weed_avg = weed_df.loc[(weed_df[\"State\"] == str(li[\"state\"])) & (weed_df[\"Year\"] < li[\"year\"]), \"Value\"].mean()\n",
    "    post_weed_avg = weed_df.loc[(weed_df[\"State\"] == str(li[\"state\"])) & (weed_df[\"Year\"] >= li[\"year\"]), \"Value\"].mean()\n",
    "    pre_avg.append(pre_weed_avg)\n",
    "    post_avg.append(post_weed_avg)\n",
    "\n",
    "pop_avg = list(zip(states, pre_avg, post_avg))\n",
    "pop_avg\n",
    "\n",
    "\n",
    "pop_df = pd.DataFrame(pop_avg, columns=['State','Pre_Avg', 'Post_Avg'])\n",
    "pop_df"
   ]
  },
  {
   "cell_type": "code",
   "execution_count": 11,
   "metadata": {},
   "outputs": [],
   "source": [
    "import seaborn as sns\n",
    "from scipy import stats"
   ]
  },
  {
   "cell_type": "code",
   "execution_count": 12,
   "metadata": {},
   "outputs": [
    {
     "name": "stderr",
     "output_type": "stream",
     "text": [
      "/anaconda3/envs/PythonData/lib/python3.6/site-packages/matplotlib/axes/_axes.py:6462: UserWarning: The 'normed' kwarg is deprecated, and has been replaced by the 'density' kwarg.\n",
      "  warnings.warn(\"The 'normed' kwarg is deprecated, and has been \"\n"
     ]
    },
    {
     "data": {
      "text/plain": [
       "<matplotlib.axes._subplots.AxesSubplot at 0x10d8e20b8>"
      ]
     },
     "execution_count": 12,
     "metadata": {},
     "output_type": "execute_result"
    },
    {
     "data": {
      "image/png": "[encoded data removed]",
      "text/plain": [
       "<Figure size 432x288 with 1 Axes>"
      ]
     },
     "metadata": {},
     "output_type": "display_data"
    }
   ],
   "source": [
    "%matplotlib inline\n",
    "sns.distplot(weed_df[\"Value\"], kde=False, rug=True)"
   ]
  },
  {
   "cell_type": "code",
   "execution_count": 14,
   "metadata": {},
   "outputs": [
    {
     "data": {
      "text/html": [
       "<div>\n",
       "<style scoped>\n",
       "    .dataframe tbody tr th:only-of-type {\n",
       "        vertical-align: middle;\n",
       "    }\n",
       "\n",
       "    .dataframe tbody tr th {\n",
       "        vertical-align: top;\n",
       "    }\n",
       "\n",
       "    .dataframe thead th {\n",
       "        text-align: right;\n",
       "    }\n",
       "</style>\n",
       "<table border=\"1\" class=\"dataframe\">\n",
       "  <thead>\n",
       "    <tr style=\"text-align: right;\">\n",
       "      <th></th>\n",
       "      <th>Pre_Avg</th>\n",
       "      <th>Post_Avg</th>\n",
       "    </tr>\n",
       "  </thead>\n",
       "  <tbody>\n",
       "    <tr>\n",
       "      <th>count</th>\n",
       "      <td>1.000000e+01</td>\n",
       "      <td>1.000000e+01</td>\n",
       "    </tr>\n",
       "    <tr>\n",
       "      <th>mean</th>\n",
       "      <td>6.671123e+06</td>\n",
       "      <td>6.933674e+06</td>\n",
       "    </tr>\n",
       "    <tr>\n",
       "      <th>std</th>\n",
       "      <td>1.133217e+07</td>\n",
       "      <td>1.170919e+07</td>\n",
       "    </tr>\n",
       "    <tr>\n",
       "      <th>min</th>\n",
       "      <td>6.251717e+05</td>\n",
       "      <td>6.238845e+05</td>\n",
       "    </tr>\n",
       "    <tr>\n",
       "      <th>25%</th>\n",
       "      <td>8.762715e+05</td>\n",
       "      <td>8.879395e+05</td>\n",
       "    </tr>\n",
       "    <tr>\n",
       "      <th>50%</th>\n",
       "      <td>3.330378e+06</td>\n",
       "      <td>3.525691e+06</td>\n",
       "    </tr>\n",
       "    <tr>\n",
       "      <th>75%</th>\n",
       "      <td>6.283297e+06</td>\n",
       "      <td>6.492767e+06</td>\n",
       "    </tr>\n",
       "    <tr>\n",
       "      <th>max</th>\n",
       "      <td>3.818956e+07</td>\n",
       "      <td>3.947913e+07</td>\n",
       "    </tr>\n",
       "  </tbody>\n",
       "</table>\n",
       "</div>"
      ],
      "text/plain": [
       "            Pre_Avg      Post_Avg\n",
       "count  1.000000e+01  1.000000e+01\n",
       "mean   6.671123e+06  6.933674e+06\n",
       "std    1.133217e+07  1.170919e+07\n",
       "min    6.251717e+05  6.238845e+05\n",
       "25%    8.762715e+05  8.879395e+05\n",
       "50%    3.330378e+06  3.525691e+06\n",
       "75%    6.283297e+06  6.492767e+06\n",
       "max    3.818956e+07  3.947913e+07"
      ]
     },
     "execution_count": 14,
     "metadata": {},
     "output_type": "execute_result"
    }
   ],
   "source": [
    "pop_df[['Pre_Avg', 'Post_Avg']].describe()"
   ]
  },
  {
   "cell_type": "code",
   "execution_count": 15,
   "metadata": {},
   "outputs": [
    {
     "data": {
      "image/png": "[encoded data removed]",
      "text/plain": [
       "<Figure size 432x288 with 1 Axes>"
      ]
     },
     "metadata": {},
     "output_type": "display_data"
    }
   ],
   "source": [
    "pop_df[['Pre_Avg', 'Post_Avg']].plot(kind='box')\n",
    "# This saves the plot as a png file\n",
    "plt.savefig('boxplot_outliers.png')"
   ]
  },
  {
   "cell_type": "code",
   "execution_count": 18,
   "metadata": {},
   "outputs": [
    {
     "data": {
      "image/png": "[encoded data removed]",
      "text/plain": [
       "<Figure size 432x288 with 1 Axes>"
      ]
     },
     "metadata": {},
     "output_type": "display_data"
    }
   ],
   "source": [
    "pop_df['pop_difference'] = pop_df['Pre_Avg'] - pop_df['Post_Avg']\n",
    "\n",
    "pop_df['pop_difference'].plot(kind='hist', title= 'Population Avg Difference', rot=45)\n",
    "#Again, this saves the plot as a png file\n",
    "plt.savefig('Population Avg Difference.png')"
   ]
  },
  {
   "cell_type": "markdown",
   "metadata": {},
   "source": [
    "### The histogram of our data doesn't seen to be normally distributed. Another way to check for normally distributed data is to use a Q-Q plot. The data should be on the red line. If it’s not, then it suggests that the data may not be normally distributed."
   ]
  },
  {
   "cell_type": "code",
   "execution_count": 19,
   "metadata": {},
   "outputs": [
    {
     "data": {
      "image/png": "[encoded data removed]",
      "text/plain": [
       "<Figure size 432x288 with 1 Axes>"
      ]
     },
     "metadata": {},
     "output_type": "display_data"
    }
   ],
   "source": [
    "stats.probplot(pop_df['pop_difference'], plot= plt)\n",
    "plt.title('Population Avg Difference Q-Q Plot')\n",
    "plt.savefig('Population Avg Difference Q-Q plot.png')"
   ]
  },
  {
   "cell_type": "markdown",
   "metadata": {},
   "source": [
    "### There is some deviation from normality, but it does not appear to be severe. To be sure, let’s test this statistically to see if the data is normally distributed. To test this, we can use the Shapiro-Wilk test for normality. Unfortunately the output is not labeled. The first value is the W test value, and the second value it the p-value.\n",
    "\n"
   ]
  },
  {
   "cell_type": "code",
   "execution_count": 20,
   "metadata": {},
   "outputs": [
    {
     "ename": "NameError",
     "evalue": "name 'df' is not defined",
     "output_type": "error",
     "traceback": [
      "\u001b[0;31m---------------------------------------------------------------------------\u001b[0m",
      "\u001b[0;31mNameError\u001b[0m                                 Traceback (most recent call last)",
      "\u001b[0;32m<ipython-input-20-ecbcf6a989c2>\u001b[0m in \u001b[0;36m<module>\u001b[0;34m()\u001b[0m\n\u001b[0;32m----> 1\u001b[0;31m \u001b[0mstats\u001b[0m\u001b[0;34m.\u001b[0m\u001b[0mttest_rel\u001b[0m\u001b[0;34m(\u001b[0m\u001b[0mdf\u001b[0m\u001b[0;34m[\u001b[0m\u001b[0;34m'bp_before'\u001b[0m\u001b[0;34m]\u001b[0m\u001b[0;34m,\u001b[0m \u001b[0mdf\u001b[0m\u001b[0;34m[\u001b[0m\u001b[0;34m'bp_after'\u001b[0m\u001b[0;34m]\u001b[0m\u001b[0;34m)\u001b[0m\u001b[0;34m\u001b[0m\u001b[0m\n\u001b[0m",
      "\u001b[0;31mNameError\u001b[0m: name 'df' is not defined"
     ]
    }
   ],
   "source": [
    "stats.ttest_rel(df['bp_before'], df['bp_after'])"
   ]
  },
  {
   "cell_type": "code",
   "execution_count": 21,
   "metadata": {},
   "outputs": [],
   "source": [
    "con=sqlite3.connect(\"/Users/daryarudych/Desktop/repos/Project2_Group1/db/marijuana.db\")\n",
    "wb=pd.read_excel(filename+'.xlsx',sheetname=None)\n",
    "# for sheet in wb:\n",
    "#     wb[sheet].to_sql(sheet,con, index=False)\n",
    "# con.commit()\n",
    "# con.close()\n"
   ]
  },
  {
   "cell_type": "code",
   "execution_count": null,
   "metadata": {},
   "outputs": [],
   "source": []
  }
 ],
 "metadata": {
  "kernelspec": {
   "display_name": "Python [conda env:PythonData]",
   "language": "python",
   "name": "conda-env-PythonData-py"
  },
  "language_info": {
   "codemirror_mode": {
    "name": "ipython",
    "version": 3
   },
   "file_extension": ".py",
   "mimetype": "text/x-python",
   "name": "python",
   "nbconvert_exporter": "python",
   "pygments_lexer": "ipython3",
   "version": "3.6.5"
  }
 },
 "nbformat": 4,
 "nbformat_minor": 2
}
